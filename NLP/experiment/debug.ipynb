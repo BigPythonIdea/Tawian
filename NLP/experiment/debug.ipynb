{
 "cells": [
  {
   "cell_type": "code",
   "execution_count": null,
   "metadata": {},
   "outputs": [],
   "source": [
    "text = \"我喜歡用 CKIP 進行中文斷詞，它很準確！\"\n",
    "\n",
    "result_df = ckip_segment(text)\n",
    "print(result_df)"
   ]
  },
  {
   "cell_type": "code",
   "execution_count": null,
   "metadata": {},
   "outputs": [],
   "source": [
    "# 測試\n",
    "text = \"我喜歡用jieba進行中文斷詞，它非常好用！\"\n",
    "dict_file = 'dict.txt'\n",
    "stop_file = 'stop.txt'\n",
    "\n",
    "result_df = jieba_segment(text, dict_file, stop_file)\n",
    "print(result_df)"
   ]
  },
  {
   "cell_type": "code",
   "execution_count": null,
   "metadata": {},
   "outputs": [],
   "source": []
  }
 ],
 "metadata": {
  "language_info": {
   "name": "python"
  },
  "orig_nbformat": 4
 },
 "nbformat": 4,
 "nbformat_minor": 2
}
