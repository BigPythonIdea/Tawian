{
 "cells": [
  {
   "cell_type": "code",
   "execution_count": 1,
   "metadata": {},
   "outputs": [
    {
     "name": "stderr",
     "output_type": "stream",
     "text": [
      "c:\\Users\\Takodachi\\anaconda3\\envs\\torch\\lib\\site-packages\\tqdm\\auto.py:21: TqdmWarning: IProgress not found. Please update jupyter and ipywidgets. See https://ipywidgets.readthedocs.io/en/stable/user_install.html\n",
      "  from .autonotebook import tqdm as notebook_tqdm\n"
     ]
    }
   ],
   "source": [
    "import pymysql\n",
    "import numpy as np\n",
    "import pandas as pd\n",
    "from ckip_transformers.nlp import CkipWordSegmenter\n",
    "from sklearn.feature_extraction.text import TfidfVectorizer\n",
    "from sklearn.metrics.pairwise import cosine_similarity\n"
   ]
  },
  {
   "cell_type": "code",
   "execution_count": 2,
   "metadata": {},
   "outputs": [
    {
     "name": "stdout",
     "output_type": "stream",
     "text": [
      "======輸入查詢的公司代碼======\n",
      "2330\n",
      "======輸入查詢年度======\n",
      "111\n"
     ]
    }
   ],
   "source": [
    "print(\"======輸入查詢的公司代碼======\")\n",
    "company_code = \"2330\"\n",
    "print(company_code)\n",
    "print(\"======輸入查詢年度======\")\n",
    "year = \"111\"\n",
    "print(year)"
   ]
  },
  {
   "cell_type": "code",
   "execution_count": 3,
   "metadata": {},
   "outputs": [],
   "source": [
    "connection = pymysql.connect(\n",
    "    host='localhost',\n",
    "    user='root',\n",
    "    password='123456',\n",
    "    database='stockdb',\n",
    "    charset='utf8mb4',\n",
    "    cursorclass=pymysql.cursors.DictCursor\n",
    ")"
   ]
  },
  {
   "cell_type": "code",
   "execution_count": 4,
   "metadata": {},
   "outputs": [],
   "source": [
    "def query_by_id(id):\n",
    "    try:\n",
    "        # 使用 cursor 建立執行 SQL 的物件\n",
    "        with connection.cursor() as cursor:\n",
    "            # 執行 SQL 查詢\n",
    "            sql = \"SELECT * FROM quarterly_reports WHERE company_code = %s\"\n",
    "            cursor.execute(sql, (id,))\n",
    "            result = cursor.fetchall()\n",
    "\n",
    "            if result:\n",
    "                return pd.DataFrame(result)\n",
    "            else:\n",
    "                print(\"找不到該 ID 的資料\")\n",
    "\n",
    "    except pymysql.Error as e:\n",
    "        print(f\"查詢發生錯誤：{e}\")\n",
    "\n",
    "    # finally:\n",
    "    #     # 關閉連線\n",
    "    #     connection.close()\n",
    "\n",
    "df = query_by_id(company_code)"
   ]
  },
  {
   "cell_type": "code",
   "execution_count": 5,
   "metadata": {},
   "outputs": [],
   "source": [
    "quarters = [\"01\",\"02\",\"03\",\"04\"]\n",
    "years = [year]\n",
    "result = df[df['quarter_date'].isin(quarters) & df['year'].isin(years)]"
   ]
  },
  {
   "cell_type": "code",
   "execution_count": 6,
   "metadata": {},
   "outputs": [],
   "source": [
    "import re\n",
    "def clear(content):\n",
    "    result_str = ''\n",
    "    for word in content:\n",
    "        if word == '\\u3000' or word == '\\n':\n",
    "            continue\n",
    "        result_str += word\n",
    "    \n",
    "    # 移除標點符號\n",
    "    result_str = re.sub(r'[^\\w\\s]', '', result_str)\n",
    "    # 移除空格\n",
    "    result_str = re.sub(r'\\s+', '', result_str)\n",
    "\n",
    "    return result_str"
   ]
  },
  {
   "cell_type": "code",
   "execution_count": 7,
   "metadata": {},
   "outputs": [
    {
     "name": "stderr",
     "output_type": "stream",
     "text": [
      "Tokenization: 100%|██████████| 1/1 [00:00<00:00, 1000.55it/s]\n",
      "Inference: 100%|██████████| 1/1 [00:02<00:00,  2.31s/it]\n",
      "Tokenization: 100%|██████████| 1/1 [00:00<00:00, 1004.62it/s]\n",
      "Inference: 100%|██████████| 1/1 [00:02<00:00,  2.21s/it]\n",
      "Tokenization: 100%|██████████| 1/1 [00:00<00:00, 1000.31it/s]\n",
      "Inference: 100%|██████████| 1/1 [00:02<00:00,  2.17s/it]\n",
      "Tokenization: 100%|██████████| 1/1 [00:00<00:00, 499.86it/s]\n",
      "Inference: 100%|██████████| 1/1 [00:06<00:00,  6.58s/it]\n"
     ]
    }
   ],
   "source": [
    "result.loc[:, 'content'] = result['content'].apply(clear)\n",
    "ws_driver  = CkipWordSegmenter(model=\"bert-base\")\n",
    "def word_segmentation(content):\n",
    "    words = ws_driver([content])[0]\n",
    "    return ' '.join(words)\n",
    "\n",
    "# 對 content 欄位進行斷詞\n",
    "result.loc[:, 'content'] = result['content'].apply(word_segmentation)"
   ]
  },
  {
   "cell_type": "code",
   "execution_count": 8,
   "metadata": {},
   "outputs": [],
   "source": [
    "t1 = ' '.join(result.loc[result['quarter_date'] == \"01\", 'content'])\n",
    "t2 = ' '.join(result.loc[result['quarter_date'] == \"02\", 'content'])\n",
    "t3 = ' '.join(result.loc[result['quarter_date'] == \"03\", 'content'])\n",
    "t4 = ' '.join(result.loc[result['quarter_date'] == \"04\", 'content'])"
   ]
  },
  {
   "cell_type": "code",
   "execution_count": 9,
   "metadata": {},
   "outputs": [
    {
     "name": "stdout",
     "output_type": "stream",
     "text": [
      "相似度分數: 86.88 %\n",
      "相似度分數: 91.27 %\n",
      "相似度分數: 53.99 %\n"
     ]
    }
   ],
   "source": [
    "def Cosine(x, y):\n",
    "    documents = [x, y]\n",
    "    vectorizer = TfidfVectorizer()\n",
    "    tfidf_matrix = vectorizer.fit_transform(documents)\n",
    "    similarity_score = cosine_similarity(tfidf_matrix)[0, 1]\n",
    "    print(f\"相似度分數: {round(similarity_score * 100, 2)} %\")\n",
    "\n",
    "ct21 = Cosine(t2, t1)\n",
    "ct32 = Cosine(t3, t2)\n",
    "ct43 = Cosine(t4, t3)"
   ]
  },
  {
   "attachments": {},
   "cell_type": "markdown",
   "metadata": {},
   "source": [
    "TODO : 視覺化、機器學習的實驗"
   ]
  }
 ],
 "metadata": {
  "kernelspec": {
   "display_name": "torch",
   "language": "python",
   "name": "python3"
  },
  "language_info": {
   "codemirror_mode": {
    "name": "ipython",
    "version": 3
   },
   "file_extension": ".py",
   "mimetype": "text/x-python",
   "name": "python",
   "nbconvert_exporter": "python",
   "pygments_lexer": "ipython3",
   "version": "3.10.0"
  },
  "orig_nbformat": 4
 },
 "nbformat": 4,
 "nbformat_minor": 2
}
